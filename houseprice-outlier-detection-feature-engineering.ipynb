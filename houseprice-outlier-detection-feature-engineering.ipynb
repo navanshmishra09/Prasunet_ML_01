{
 "cells": [
  {
   "cell_type": "markdown",
   "id": "6cde3aef",
   "metadata": {
    "papermill": {
     "duration": 0.012241,
     "end_time": "2024-07-29T18:19:49.240097",
     "exception": false,
     "start_time": "2024-07-29T18:19:49.227856",
     "status": "completed"
    },
    "tags": []
   },
   "source": [
    "# Imports"
   ]
  },
  {
   "cell_type": "code",
   "execution_count": 1,
   "id": "8d71d272",
   "metadata": {
    "_cell_guid": "b1076dfc-b9ad-4769-8c92-a6c4dae69d19",
    "_uuid": "8f2839f25d086af736a60e9eeb907d3b93b6e0e5",
    "execution": {
     "iopub.execute_input": "2024-07-29T18:19:49.264935Z",
     "iopub.status.busy": "2024-07-29T18:19:49.264501Z",
     "iopub.status.idle": "2024-07-29T18:19:52.680441Z",
     "shell.execute_reply": "2024-07-29T18:19:52.679406Z"
    },
    "papermill": {
     "duration": 3.431363,
     "end_time": "2024-07-29T18:19:52.683234",
     "exception": false,
     "start_time": "2024-07-29T18:19:49.251871",
     "status": "completed"
    },
    "tags": []
   },
   "outputs": [],
   "source": [
    "import pandas as pd\n",
    "import numpy as np\n",
    "import matplotlib.pyplot as plt\n",
    "import seaborn as sns\n",
    "\n",
    "from sklearn.metrics import mean_squared_error, r2_score, mean_absolute_error\n",
    "from sklearn.model_selection import train_test_split, GridSearchCV, learning_curve\n",
    "from sklearn.preprocessing import OneHotEncoder\n",
    "\n",
    "from sklearn.linear_model import LinearRegression, Ridge, ElasticNet, Lasso\n",
    "from sklearn.ensemble import RandomForestRegressor, VotingRegressor\n",
    "from xgboost import XGBRegressor\n",
    "from catboost import CatBoostRegressor\n",
    "\n",
    "import warnings\n",
    "warnings.filterwarnings(\"ignore\")"
   ]
  },
  {
   "cell_type": "markdown",
   "id": "5a189d44",
   "metadata": {
    "papermill": {
     "duration": 0.011063,
     "end_time": "2024-07-29T18:19:52.705727",
     "exception": false,
     "start_time": "2024-07-29T18:19:52.694664",
     "status": "completed"
    },
    "tags": []
   },
   "source": [
    "# Loading the Data and Data Overview"
   ]
  },
  {
   "cell_type": "code",
   "execution_count": 2,
   "id": "5d870b38",
   "metadata": {
    "execution": {
     "iopub.execute_input": "2024-07-29T18:19:52.730316Z",
     "iopub.status.busy": "2024-07-29T18:19:52.729735Z",
     "iopub.status.idle": "2024-07-29T18:19:52.824178Z",
     "shell.execute_reply": "2024-07-29T18:19:52.823102Z"
    },
    "papermill": {
     "duration": 0.110118,
     "end_time": "2024-07-29T18:19:52.826899",
     "exception": false,
     "start_time": "2024-07-29T18:19:52.716781",
     "status": "completed"
    },
    "tags": []
   },
   "outputs": [],
   "source": [
    "train = pd.read_csv('\"C:\\Users\\navan\\Downloads\\train.csv\"')\n",
    "test = pd.read_csv('\"C:\\Users\\navan\\Downloads\\test.csv\"')"
   ]
  },
  {
   "cell_type": "code",
   "execution_count": 3,
   "id": "9ec25c43",
   "metadata": {
    "execution": {
     "iopub.execute_input": "2024-07-29T18:19:52.850988Z",
     "iopub.status.busy": "2024-07-29T18:19:52.850614Z",
     "iopub.status.idle": "2024-07-29T18:19:52.892253Z",
     "shell.execute_reply": "2024-07-29T18:19:52.891032Z"
    },
    "papermill": {
     "duration": 0.056816,
     "end_time": "2024-07-29T18:19:52.894745",
     "exception": false,
     "start_time": "2024-07-29T18:19:52.837929",
     "status": "completed"
    },
    "tags": []
   },
   "outputs": [
    {
     "data": {
      "text/html": [
       "<div>\n",
       "<style scoped>\n",
       "    .dataframe tbody tr th:only-of-type {\n",
       "        vertical-align: middle;\n",
       "    }\n",
       "\n",
       "    .dataframe tbody tr th {\n",
       "        vertical-align: top;\n",
       "    }\n",
       "\n",
       "    .dataframe thead th {\n",
       "        text-align: right;\n",
       "    }\n",
       "</style>\n",
       "<table border=\"1\" class=\"dataframe\">\n",
       "  <thead>\n",
       "    <tr style=\"text-align: right;\">\n",
       "      <th></th>\n",
       "      <th>Id</th>\n",
       "      <th>MSSubClass</th>\n",
       "      <th>MSZoning</th>\n",
       "      <th>LotFrontage</th>\n",
       "      <th>LotArea</th>\n",
       "      <th>Street</th>\n",
       "      <th>Alley</th>\n",
       "      <th>LotShape</th>\n",
       "      <th>LandContour</th>\n",
       "      <th>Utilities</th>\n",
       "      <th>...</th>\n",
       "      <th>ScreenPorch</th>\n",
       "      <th>PoolArea</th>\n",
       "      <th>PoolQC</th>\n",
       "      <th>Fence</th>\n",
       "      <th>MiscFeature</th>\n",
       "      <th>MiscVal</th>\n",
       "      <th>MoSold</th>\n",
       "      <th>YrSold</th>\n",
       "      <th>SaleType</th>\n",
       "      <th>SaleCondition</th>\n",
       "    </tr>\n",
       "  </thead>\n",
       "  <tbody>\n",
       "    <tr>\n",
       "      <th>0</th>\n",
       "      <td>1461</td>\n",
       "      <td>20</td>\n",
       "      <td>RH</td>\n",
       "      <td>80.0</td>\n",
       "      <td>11622</td>\n",
       "      <td>Pave</td>\n",
       "      <td>NaN</td>\n",
       "      <td>Reg</td>\n",
       "      <td>Lvl</td>\n",
       "      <td>AllPub</td>\n",
       "      <td>...</td>\n",
       "      <td>120</td>\n",
       "      <td>0</td>\n",
       "      <td>NaN</td>\n",
       "      <td>MnPrv</td>\n",
       "      <td>NaN</td>\n",
       "      <td>0</td>\n",
       "      <td>6</td>\n",
       "      <td>2010</td>\n",
       "      <td>WD</td>\n",
       "      <td>Normal</td>\n",
       "    </tr>\n",
       "    <tr>\n",
       "      <th>1</th>\n",
       "      <td>1462</td>\n",
       "      <td>20</td>\n",
       "      <td>RL</td>\n",
       "      <td>81.0</td>\n",
       "      <td>14267</td>\n",
       "      <td>Pave</td>\n",
       "      <td>NaN</td>\n",
       "      <td>IR1</td>\n",
       "      <td>Lvl</td>\n",
       "      <td>AllPub</td>\n",
       "      <td>...</td>\n",
       "      <td>0</td>\n",
       "      <td>0</td>\n",
       "      <td>NaN</td>\n",
       "      <td>NaN</td>\n",
       "      <td>Gar2</td>\n",
       "      <td>12500</td>\n",
       "      <td>6</td>\n",
       "      <td>2010</td>\n",
       "      <td>WD</td>\n",
       "      <td>Normal</td>\n",
       "    </tr>\n",
       "    <tr>\n",
       "      <th>2</th>\n",
       "      <td>1463</td>\n",
       "      <td>60</td>\n",
       "      <td>RL</td>\n",
       "      <td>74.0</td>\n",
       "      <td>13830</td>\n",
       "      <td>Pave</td>\n",
       "      <td>NaN</td>\n",
       "      <td>IR1</td>\n",
       "      <td>Lvl</td>\n",
       "      <td>AllPub</td>\n",
       "      <td>...</td>\n",
       "      <td>0</td>\n",
       "      <td>0</td>\n",
       "      <td>NaN</td>\n",
       "      <td>MnPrv</td>\n",
       "      <td>NaN</td>\n",
       "      <td>0</td>\n",
       "      <td>3</td>\n",
       "      <td>2010</td>\n",
       "      <td>WD</td>\n",
       "      <td>Normal</td>\n",
       "    </tr>\n",
       "    <tr>\n",
       "      <th>3</th>\n",
       "      <td>1464</td>\n",
       "      <td>60</td>\n",
       "      <td>RL</td>\n",
       "      <td>78.0</td>\n",
       "      <td>9978</td>\n",
       "      <td>Pave</td>\n",
       "      <td>NaN</td>\n",
       "      <td>IR1</td>\n",
       "      <td>Lvl</td>\n",
       "      <td>AllPub</td>\n",
       "      <td>...</td>\n",
       "      <td>0</td>\n",
       "      <td>0</td>\n",
       "      <td>NaN</td>\n",
       "      <td>NaN</td>\n",
       "      <td>NaN</td>\n",
       "      <td>0</td>\n",
       "      <td>6</td>\n",
       "      <td>2010</td>\n",
       "      <td>WD</td>\n",
       "      <td>Normal</td>\n",
       "    </tr>\n",
       "    <tr>\n",
       "      <th>4</th>\n",
       "      <td>1465</td>\n",
       "      <td>120</td>\n",
       "      <td>RL</td>\n",
       "      <td>43.0</td>\n",
       "      <td>5005</td>\n",
       "      <td>Pave</td>\n",
       "      <td>NaN</td>\n",
       "      <td>IR1</td>\n",
       "      <td>HLS</td>\n",
       "      <td>AllPub</td>\n",
       "      <td>...</td>\n",
       "      <td>144</td>\n",
       "      <td>0</td>\n",
       "      <td>NaN</td>\n",
       "      <td>NaN</td>\n",
       "      <td>NaN</td>\n",
       "      <td>0</td>\n",
       "      <td>1</td>\n",
       "      <td>2010</td>\n",
       "      <td>WD</td>\n",
       "      <td>Normal</td>\n",
       "    </tr>\n",
       "  </tbody>\n",
       "</table>\n",
       "<p>5 rows × 80 columns</p>\n",
       "</div>"
      ],
      "text/plain": [
       "     Id  MSSubClass MSZoning  LotFrontage  LotArea Street Alley LotShape  \\\n",
       "0  1461          20       RH         80.0    11622   Pave   NaN      Reg   \n",
       "1  1462          20       RL         81.0    14267   Pave   NaN      IR1   \n",
       "2  1463          60       RL         74.0    13830   Pave   NaN      IR1   \n",
       "3  1464          60       RL         78.0     9978   Pave   NaN      IR1   \n",
       "4  1465         120       RL         43.0     5005   Pave   NaN      IR1   \n",
       "\n",
       "  LandContour Utilities  ... ScreenPorch PoolArea PoolQC  Fence MiscFeature  \\\n",
       "0         Lvl    AllPub  ...         120        0    NaN  MnPrv         NaN   \n",
       "1         Lvl    AllPub  ...           0        0    NaN    NaN        Gar2   \n",
       "2         Lvl    AllPub  ...           0        0    NaN  MnPrv         NaN   \n",
       "3         Lvl    AllPub  ...           0        0    NaN    NaN         NaN   \n",
       "4         HLS    AllPub  ...         144        0    NaN    NaN         NaN   \n",
       "\n",
       "  MiscVal MoSold  YrSold  SaleType  SaleCondition  \n",
       "0       0      6    2010        WD         Normal  \n",
       "1   12500      6    2010        WD         Normal  \n",
       "2       0      3    2010        WD         Normal  \n",
       "3       0      6    2010        WD         Normal  \n",
       "4       0      1    2010        WD         Normal  \n",
       "\n",
       "[5 rows x 80 columns]"
      ]
     },
     "execution_count": 3,
     "metadata": {},
     "output_type": "execute_result"
    }
   ],
   "source": [
    "test.head()"
   ]
  },
  {
   "cell_type": "code",
   "execution_count": 4,
   "id": "c030877f",
   "metadata": {
    "execution": {
     "iopub.execute_input": "2024-07-29T18:19:52.919639Z",
     "iopub.status.busy": "2024-07-29T18:19:52.919207Z",
     "iopub.status.idle": "2024-07-29T18:19:52.943628Z",
     "shell.execute_reply": "2024-07-29T18:19:52.942560Z"
    },
    "papermill": {
     "duration": 0.03988,
     "end_time": "2024-07-29T18:19:52.946137",
     "exception": false,
     "start_time": "2024-07-29T18:19:52.906257",
     "status": "completed"
    },
    "tags": []
   },
   "outputs": [
    {
     "data": {
      "text/html": [
       "<div>\n",
       "<style scoped>\n",
       "    .dataframe tbody tr th:only-of-type {\n",
       "        vertical-align: middle;\n",
       "    }\n",
       "\n",
       "    .dataframe tbody tr th {\n",
       "        vertical-align: top;\n",
       "    }\n",
       "\n",
       "    .dataframe thead th {\n",
       "        text-align: right;\n",
       "    }\n",
       "</style>\n",
       "<table border=\"1\" class=\"dataframe\">\n",
       "  <thead>\n",
       "    <tr style=\"text-align: right;\">\n",
       "      <th></th>\n",
       "      <th>Id</th>\n",
       "      <th>MSSubClass</th>\n",
       "      <th>MSZoning</th>\n",
       "      <th>LotFrontage</th>\n",
       "      <th>LotArea</th>\n",
       "      <th>Street</th>\n",
       "      <th>Alley</th>\n",
       "      <th>LotShape</th>\n",
       "      <th>LandContour</th>\n",
       "      <th>Utilities</th>\n",
       "      <th>...</th>\n",
       "      <th>PoolArea</th>\n",
       "      <th>PoolQC</th>\n",
       "      <th>Fence</th>\n",
       "      <th>MiscFeature</th>\n",
       "      <th>MiscVal</th>\n",
       "      <th>MoSold</th>\n",
       "      <th>YrSold</th>\n",
       "      <th>SaleType</th>\n",
       "      <th>SaleCondition</th>\n",
       "      <th>SalePrice</th>\n",
       "    </tr>\n",
       "  </thead>\n",
       "  <tbody>\n",
       "    <tr>\n",
       "      <th>0</th>\n",
       "      <td>1</td>\n",
       "      <td>60</td>\n",
       "      <td>RL</td>\n",
       "      <td>65.0</td>\n",
       "      <td>8450</td>\n",
       "      <td>Pave</td>\n",
       "      <td>NaN</td>\n",
       "      <td>Reg</td>\n",
       "      <td>Lvl</td>\n",
       "      <td>AllPub</td>\n",
       "      <td>...</td>\n",
       "      <td>0</td>\n",
       "      <td>NaN</td>\n",
       "      <td>NaN</td>\n",
       "      <td>NaN</td>\n",
       "      <td>0</td>\n",
       "      <td>2</td>\n",
       "      <td>2008</td>\n",
       "      <td>WD</td>\n",
       "      <td>Normal</td>\n",
       "      <td>208500</td>\n",
       "    </tr>\n",
       "    <tr>\n",
       "      <th>1</th>\n",
       "      <td>2</td>\n",
       "      <td>20</td>\n",
       "      <td>RL</td>\n",
       "      <td>80.0</td>\n",
       "      <td>9600</td>\n",
       "      <td>Pave</td>\n",
       "      <td>NaN</td>\n",
       "      <td>Reg</td>\n",
       "      <td>Lvl</td>\n",
       "      <td>AllPub</td>\n",
       "      <td>...</td>\n",
       "      <td>0</td>\n",
       "      <td>NaN</td>\n",
       "      <td>NaN</td>\n",
       "      <td>NaN</td>\n",
       "      <td>0</td>\n",
       "      <td>5</td>\n",
       "      <td>2007</td>\n",
       "      <td>WD</td>\n",
       "      <td>Normal</td>\n",
       "      <td>181500</td>\n",
       "    </tr>\n",
       "    <tr>\n",
       "      <th>2</th>\n",
       "      <td>3</td>\n",
       "      <td>60</td>\n",
       "      <td>RL</td>\n",
       "      <td>68.0</td>\n",
       "      <td>11250</td>\n",
       "      <td>Pave</td>\n",
       "      <td>NaN</td>\n",
       "      <td>IR1</td>\n",
       "      <td>Lvl</td>\n",
       "      <td>AllPub</td>\n",
       "      <td>...</td>\n",
       "      <td>0</td>\n",
       "      <td>NaN</td>\n",
       "      <td>NaN</td>\n",
       "      <td>NaN</td>\n",
       "      <td>0</td>\n",
       "      <td>9</td>\n",
       "      <td>2008</td>\n",
       "      <td>WD</td>\n",
       "      <td>Normal</td>\n",
       "      <td>223500</td>\n",
       "    </tr>\n",
       "    <tr>\n",
       "      <th>3</th>\n",
       "      <td>4</td>\n",
       "      <td>70</td>\n",
       "      <td>RL</td>\n",
       "      <td>60.0</td>\n",
       "      <td>9550</td>\n",
       "      <td>Pave</td>\n",
       "      <td>NaN</td>\n",
       "      <td>IR1</td>\n",
       "      <td>Lvl</td>\n",
       "      <td>AllPub</td>\n",
       "      <td>...</td>\n",
       "      <td>0</td>\n",
       "      <td>NaN</td>\n",
       "      <td>NaN</td>\n",
       "      <td>NaN</td>\n",
       "      <td>0</td>\n",
       "      <td>2</td>\n",
       "      <td>2006</td>\n",
       "      <td>WD</td>\n",
       "      <td>Abnorml</td>\n",
       "      <td>140000</td>\n",
       "    </tr>\n",
       "    <tr>\n",
       "      <th>4</th>\n",
       "      <td>5</td>\n",
       "      <td>60</td>\n",
       "      <td>RL</td>\n",
       "      <td>84.0</td>\n",
       "      <td>14260</td>\n",
       "      <td>Pave</td>\n",
       "      <td>NaN</td>\n",
       "      <td>IR1</td>\n",
       "      <td>Lvl</td>\n",
       "      <td>AllPub</td>\n",
       "      <td>...</td>\n",
       "      <td>0</td>\n",
       "      <td>NaN</td>\n",
       "      <td>NaN</td>\n",
       "      <td>NaN</td>\n",
       "      <td>0</td>\n",
       "      <td>12</td>\n",
       "      <td>2008</td>\n",
       "      <td>WD</td>\n",
       "      <td>Normal</td>\n",
       "      <td>250000</td>\n",
       "    </tr>\n",
       "  </tbody>\n",
       "</table>\n",
       "<p>5 rows × 81 columns</p>\n",
       "</div>"
      ],
      "text/plain": [
       "   Id  MSSubClass MSZoning  LotFrontage  LotArea Street Alley LotShape  \\\n",
       "0   1          60       RL         65.0     8450   Pave   NaN      Reg   \n",
       "1   2          20       RL         80.0     9600   Pave   NaN      Reg   \n",
       "2   3          60       RL         68.0    11250   Pave   NaN      IR1   \n",
       "3   4          70       RL         60.0     9550   Pave   NaN      IR1   \n",
       "4   5          60       RL         84.0    14260   Pave   NaN      IR1   \n",
       "\n",
       "  LandContour Utilities  ... PoolArea PoolQC Fence MiscFeature MiscVal MoSold  \\\n",
       "0         Lvl    AllPub  ...        0    NaN   NaN         NaN       0      2   \n",
       "1         Lvl    AllPub  ...        0    NaN   NaN         NaN       0      5   \n",
       "2         Lvl    AllPub  ...        0    NaN   NaN         NaN       0      9   \n",
       "3         Lvl    AllPub  ...        0    NaN   NaN         NaN       0      2   \n",
       "4         Lvl    AllPub  ...        0    NaN   NaN         NaN       0     12   \n",
       "\n",
       "  YrSold  SaleType  SaleCondition  SalePrice  \n",
       "0   2008        WD         Normal     208500  \n",
       "1   2007        WD         Normal     181500  \n",
       "2   2008        WD         Normal     223500  \n",
       "3   2006        WD        Abnorml     140000  \n",
       "4   2008        WD         Normal     250000  \n",
       "\n",
       "[5 rows x 81 columns]"
      ]
     },
     "execution_count": 4,
     "metadata": {},
     "output_type": "execute_result"
    }
   ],
   "source": [
    "train.head()"
   ]
  },
  {
   "cell_type": "code",
   "execution_count": 5,
   "id": "d4a3d670",
   "metadata": {
    "execution": {
     "iopub.execute_input": "2024-07-29T18:19:52.971425Z",
     "iopub.status.busy": "2024-07-29T18:19:52.971030Z",
     "iopub.status.idle": "2024-07-29T18:19:53.071896Z",
     "shell.execute_reply": "2024-07-29T18:19:53.070793Z"
    },
    "papermill": {
     "duration": 0.11654,
     "end_time": "2024-07-29T18:19:53.074581",
     "exception": false,
     "start_time": "2024-07-29T18:19:52.958041",
     "status": "completed"
    },
    "tags": []
   },
   "outputs": [
    {
     "data": {
      "text/html": [
       "<div>\n",
       "<style scoped>\n",
       "    .dataframe tbody tr th:only-of-type {\n",
       "        vertical-align: middle;\n",
       "    }\n",
       "\n",
       "    .dataframe tbody tr th {\n",
       "        vertical-align: top;\n",
       "    }\n",
       "\n",
       "    .dataframe thead th {\n",
       "        text-align: right;\n",
       "    }\n",
       "</style>\n",
       "<table border=\"1\" class=\"dataframe\">\n",
       "  <thead>\n",
       "    <tr style=\"text-align: right;\">\n",
       "      <th></th>\n",
       "      <th>Id</th>\n",
       "      <th>MSSubClass</th>\n",
       "      <th>LotFrontage</th>\n",
       "      <th>LotArea</th>\n",
       "      <th>OverallQual</th>\n",
       "      <th>OverallCond</th>\n",
       "      <th>YearBuilt</th>\n",
       "      <th>YearRemodAdd</th>\n",
       "      <th>MasVnrArea</th>\n",
       "      <th>BsmtFinSF1</th>\n",
       "      <th>...</th>\n",
       "      <th>WoodDeckSF</th>\n",
       "      <th>OpenPorchSF</th>\n",
       "      <th>EnclosedPorch</th>\n",
       "      <th>3SsnPorch</th>\n",
       "      <th>ScreenPorch</th>\n",
       "      <th>PoolArea</th>\n",
       "      <th>MiscVal</th>\n",
       "      <th>MoSold</th>\n",
       "      <th>YrSold</th>\n",
       "      <th>SalePrice</th>\n",
       "    </tr>\n",
       "  </thead>\n",
       "  <tbody>\n",
       "    <tr>\n",
       "      <th>count</th>\n",
       "      <td>1460.000000</td>\n",
       "      <td>1460.000000</td>\n",
       "      <td>1201.000000</td>\n",
       "      <td>1460.000000</td>\n",
       "      <td>1460.000000</td>\n",
       "      <td>1460.000000</td>\n",
       "      <td>1460.000000</td>\n",
       "      <td>1460.000000</td>\n",
       "      <td>1452.000000</td>\n",
       "      <td>1460.000000</td>\n",
       "      <td>...</td>\n",
       "      <td>1460.000000</td>\n",
       "      <td>1460.000000</td>\n",
       "      <td>1460.000000</td>\n",
       "      <td>1460.000000</td>\n",
       "      <td>1460.000000</td>\n",
       "      <td>1460.000000</td>\n",
       "      <td>1460.000000</td>\n",
       "      <td>1460.000000</td>\n",
       "      <td>1460.000000</td>\n",
       "      <td>1460.000000</td>\n",
       "    </tr>\n",
       "    <tr>\n",
       "      <th>mean</th>\n",
       "      <td>730.500000</td>\n",
       "      <td>56.897260</td>\n",
       "      <td>70.049958</td>\n",
       "      <td>10516.828082</td>\n",
       "      <td>6.099315</td>\n",
       "      <td>5.575342</td>\n",
       "      <td>1971.267808</td>\n",
       "      <td>1984.865753</td>\n",
       "      <td>103.685262</td>\n",
       "      <td>443.639726</td>\n",
       "      <td>...</td>\n",
       "      <td>94.244521</td>\n",
       "      <td>46.660274</td>\n",
       "      <td>21.954110</td>\n",
       "      <td>3.409589</td>\n",
       "      <td>15.060959</td>\n",
       "      <td>2.758904</td>\n",
       "      <td>43.489041</td>\n",
       "      <td>6.321918</td>\n",
       "      <td>2007.815753</td>\n",
       "      <td>180921.195890</td>\n",
       "    </tr>\n",
       "    <tr>\n",
       "      <th>std</th>\n",
       "      <td>421.610009</td>\n",
       "      <td>42.300571</td>\n",
       "      <td>24.284752</td>\n",
       "      <td>9981.264932</td>\n",
       "      <td>1.382997</td>\n",
       "      <td>1.112799</td>\n",
       "      <td>30.202904</td>\n",
       "      <td>20.645407</td>\n",
       "      <td>181.066207</td>\n",
       "      <td>456.098091</td>\n",
       "      <td>...</td>\n",
       "      <td>125.338794</td>\n",
       "      <td>66.256028</td>\n",
       "      <td>61.119149</td>\n",
       "      <td>29.317331</td>\n",
       "      <td>55.757415</td>\n",
       "      <td>40.177307</td>\n",
       "      <td>496.123024</td>\n",
       "      <td>2.703626</td>\n",
       "      <td>1.328095</td>\n",
       "      <td>79442.502883</td>\n",
       "    </tr>\n",
       "    <tr>\n",
       "      <th>min</th>\n",
       "      <td>1.000000</td>\n",
       "      <td>20.000000</td>\n",
       "      <td>21.000000</td>\n",
       "      <td>1300.000000</td>\n",
       "      <td>1.000000</td>\n",
       "      <td>1.000000</td>\n",
       "      <td>1872.000000</td>\n",
       "      <td>1950.000000</td>\n",
       "      <td>0.000000</td>\n",
       "      <td>0.000000</td>\n",
       "      <td>...</td>\n",
       "      <td>0.000000</td>\n",
       "      <td>0.000000</td>\n",
       "      <td>0.000000</td>\n",
       "      <td>0.000000</td>\n",
       "      <td>0.000000</td>\n",
       "      <td>0.000000</td>\n",
       "      <td>0.000000</td>\n",
       "      <td>1.000000</td>\n",
       "      <td>2006.000000</td>\n",
       "      <td>34900.000000</td>\n",
       "    </tr>\n",
       "    <tr>\n",
       "      <th>25%</th>\n",
       "      <td>365.750000</td>\n",
       "      <td>20.000000</td>\n",
       "      <td>59.000000</td>\n",
       "      <td>7553.500000</td>\n",
       "      <td>5.000000</td>\n",
       "      <td>5.000000</td>\n",
       "      <td>1954.000000</td>\n",
       "      <td>1967.000000</td>\n",
       "      <td>0.000000</td>\n",
       "      <td>0.000000</td>\n",
       "      <td>...</td>\n",
       "      <td>0.000000</td>\n",
       "      <td>0.000000</td>\n",
       "      <td>0.000000</td>\n",
       "      <td>0.000000</td>\n",
       "      <td>0.000000</td>\n",
       "      <td>0.000000</td>\n",
       "      <td>0.000000</td>\n",
       "      <td>5.000000</td>\n",
       "      <td>2007.000000</td>\n",
       "      <td>129975.000000</td>\n",
       "    </tr>\n",
       "    <tr>\n",
       "      <th>50%</th>\n",
       "      <td>730.500000</td>\n",
       "      <td>50.000000</td>\n",
       "      <td>69.000000</td>\n",
       "      <td>9478.500000</td>\n",
       "      <td>6.000000</td>\n",
       "      <td>5.000000</td>\n",
       "      <td>1973.000000</td>\n",
       "      <td>1994.000000</td>\n",
       "      <td>0.000000</td>\n",
       "      <td>383.500000</td>\n",
       "      <td>...</td>\n",
       "      <td>0.000000</td>\n",
       "      <td>25.000000</td>\n",
       "      <td>0.000000</td>\n",
       "      <td>0.000000</td>\n",
       "      <td>0.000000</td>\n",
       "      <td>0.000000</td>\n",
       "      <td>0.000000</td>\n",
       "      <td>6.000000</td>\n",
       "      <td>2008.000000</td>\n",
       "      <td>163000.000000</td>\n",
       "    </tr>\n",
       "    <tr>\n",
       "      <th>75%</th>\n",
       "      <td>1095.250000</td>\n",
       "      <td>70.000000</td>\n",
       "      <td>80.000000</td>\n",
       "      <td>11601.500000</td>\n",
       "      <td>7.000000</td>\n",
       "      <td>6.000000</td>\n",
       "      <td>2000.000000</td>\n",
       "      <td>2004.000000</td>\n",
       "      <td>166.000000</td>\n",
       "      <td>712.250000</td>\n",
       "      <td>...</td>\n",
       "      <td>168.000000</td>\n",
       "      <td>68.000000</td>\n",
       "      <td>0.000000</td>\n",
       "      <td>0.000000</td>\n",
       "      <td>0.000000</td>\n",
       "      <td>0.000000</td>\n",
       "      <td>0.000000</td>\n",
       "      <td>8.000000</td>\n",
       "      <td>2009.000000</td>\n",
       "      <td>214000.000000</td>\n",
       "    </tr>\n",
       "    <tr>\n",
       "      <th>max</th>\n",
       "      <td>1460.000000</td>\n",
       "      <td>190.000000</td>\n",
       "      <td>313.000000</td>\n",
       "      <td>215245.000000</td>\n",
       "      <td>10.000000</td>\n",
       "      <td>9.000000</td>\n",
       "      <td>2010.000000</td>\n",
       "      <td>2010.000000</td>\n",
       "      <td>1600.000000</td>\n",
       "      <td>5644.000000</td>\n",
       "      <td>...</td>\n",
       "      <td>857.000000</td>\n",
       "      <td>547.000000</td>\n",
       "      <td>552.000000</td>\n",
       "      <td>508.000000</td>\n",
       "      <td>480.000000</td>\n",
       "      <td>738.000000</td>\n",
       "      <td>15500.000000</td>\n",
       "      <td>12.000000</td>\n",
       "      <td>2010.000000</td>\n",
       "      <td>755000.000000</td>\n",
       "    </tr>\n",
       "  </tbody>\n",
       "</table>\n",
       "<p>8 rows × 38 columns</p>\n",
       "</div>"
      ],
      "text/plain": [
       "                Id   MSSubClass  LotFrontage        LotArea  OverallQual  \\\n",
       "count  1460.000000  1460.000000  1201.000000    1460.000000  1460.000000   \n",
       "mean    730.500000    56.897260    70.049958   10516.828082     6.099315   \n",
       "std     421.610009    42.300571    24.284752    9981.264932     1.382997   \n",
       "min       1.000000    20.000000    21.000000    1300.000000     1.000000   \n",
       "25%     365.750000    20.000000    59.000000    7553.500000     5.000000   \n",
       "50%     730.500000    50.000000    69.000000    9478.500000     6.000000   \n",
       "75%    1095.250000    70.000000    80.000000   11601.500000     7.000000   \n",
       "max    1460.000000   190.000000   313.000000  215245.000000    10.000000   \n",
       "\n",
       "       OverallCond    YearBuilt  YearRemodAdd   MasVnrArea   BsmtFinSF1  ...  \\\n",
       "count  1460.000000  1460.000000   1460.000000  1452.000000  1460.000000  ...   \n",
       "mean      5.575342  1971.267808   1984.865753   103.685262   443.639726  ...   \n",
       "std       1.112799    30.202904     20.645407   181.066207   456.098091  ...   \n",
       "min       1.000000  1872.000000   1950.000000     0.000000     0.000000  ...   \n",
       "25%       5.000000  1954.000000   1967.000000     0.000000     0.000000  ...   \n",
       "50%       5.000000  1973.000000   1994.000000     0.000000   383.500000  ...   \n",
       "75%       6.000000  2000.000000   2004.000000   166.000000   712.250000  ...   \n",
       "max       9.000000  2010.000000   2010.000000  1600.000000  5644.000000  ...   \n",
       "\n",
       "        WoodDeckSF  OpenPorchSF  EnclosedPorch    3SsnPorch  ScreenPorch  \\\n",
       "count  1460.000000  1460.000000    1460.000000  1460.000000  1460.000000   \n",
       "mean     94.244521    46.660274      21.954110     3.409589    15.060959   \n",
       "std     125.338794    66.256028      61.119149    29.317331    55.757415   \n",
       "min       0.000000     0.000000       0.000000     0.000000     0.000000   \n",
       "25%       0.000000     0.000000       0.000000     0.000000     0.000000   \n",
       "50%       0.000000    25.000000       0.000000     0.000000     0.000000   \n",
       "75%     168.000000    68.000000       0.000000     0.000000     0.000000   \n",
       "max     857.000000   547.000000     552.000000   508.000000   480.000000   \n",
       "\n",
       "          PoolArea       MiscVal       MoSold       YrSold      SalePrice  \n",
       "count  1460.000000   1460.000000  1460.000000  1460.000000    1460.000000  \n",
       "mean      2.758904     43.489041     6.321918  2007.815753  180921.195890  \n",
       "std      40.177307    496.123024     2.703626     1.328095   79442.502883  \n",
       "min       0.000000      0.000000     1.000000  2006.000000   34900.000000  \n",
       "25%       0.000000      0.000000     5.000000  2007.000000  129975.000000  \n",
       "50%       0.000000      0.000000     6.000000  2008.000000  163000.000000  \n",
       "75%       0.000000      0.000000     8.000000  2009.000000  214000.000000  \n",
       "max     738.000000  15500.000000    12.000000  2010.000000  755000.000000  \n",
       "\n",
       "[8 rows x 38 columns]"
      ]
     },
     "execution_count": 5,
     "metadata": {},
     "output_type": "execute_result"
    }
   ],
   "source": [
    "train.describe()"
   ]
  },
  {
   "cell_type": "code",
   "execution_count": 6,
   "id": "33cb32bb",
   "metadata": {
    "execution": {
     "iopub.execute_input": "2024-07-29T18:19:53.101888Z",
     "iopub.status.busy": "2024-07-29T18:19:53.101475Z",
     "iopub.status.idle": "2024-07-29T18:19:53.133873Z",
     "shell.execute_reply": "2024-07-29T18:19:53.132492Z"
    },
    "papermill": {
     "duration": 0.049663,
     "end_time": "2024-07-29T18:19:53.136596",
     "exception": false,
     "start_time": "2024-07-29T18:19:53.086933",
     "status": "completed"
    },
    "tags": []
   },
   "outputs": [
    {
     "name": "stdout",
     "output_type": "stream",
     "text": [
      "<class 'pandas.core.frame.DataFrame'>\n",
      "RangeIndex: 1460 entries, 0 to 1459\n",
      "Data columns (total 81 columns):\n",
      " #   Column         Non-Null Count  Dtype  \n",
      "---  ------         --------------  -----  \n",
      " 0   Id             1460 non-null   int64  \n",
      " 1   MSSubClass     1460 non-null   int64  \n",
      " 2   MSZoning       1460 non-null   object \n",
      " 3   LotFrontage    1201 non-null   float64\n",
      " 4   LotArea        1460 non-null   int64  \n",
      " 5   Street         1460 non-null   object \n",
      " 6   Alley          91 non-null     object \n",
      " 7   LotShape       1460 non-null   object \n",
      " 8   LandContour    1460 non-null   object \n",
      " 9   Utilities      1460 non-null   object \n",
      " 10  LotConfig      1460 non-null   object \n",
      " 11  LandSlope      1460 non-null   object \n",
      " 12  Neighborhood   1460 non-null   object \n",
      " 13  Condition1     1460 non-null   object \n",
      " 14  Condition2     1460 non-null   object \n",
      " 15  BldgType       1460 non-null   object \n",
      " 16  HouseStyle     1460 non-null   object \n",
      " 17  OverallQual    1460 non-null   int64  \n",
      " 18  OverallCond    1460 non-null   int64  \n",
      " 19  YearBuilt      1460 non-null   int64  \n",
      " 20  YearRemodAdd   1460 non-null   int64  \n",
      " 21  RoofStyle      1460 non-null   object \n",
      " 22  RoofMatl       1460 non-null   object \n",
      " 23  Exterior1st    1460 non-null   object \n",
      " 24  Exterior2nd    1460 non-null   object \n",
      " 25  MasVnrType     588 non-null    object \n",
      " 26  MasVnrArea     1452 non-null   float64\n",
      " 27  ExterQual      1460 non-null   object \n",
      " 28  ExterCond      1460 non-null   object \n",
      " 29  Foundation     1460 non-null   object \n",
      " 30  BsmtQual       1423 non-null   object \n",
      " 31  BsmtCond       1423 non-null   object \n",
      " 32  BsmtExposure   1422 non-null   object \n",
      " 33  BsmtFinType1   1423 non-null   object \n",
      " 34  BsmtFinSF1     1460 non-null   int64  \n",
      " 35  BsmtFinType2   1422 non-null   object \n",
      " 36  BsmtFinSF2     1460 non-null   int64  \n",
      " 37  BsmtUnfSF      1460 non-null   int64  \n",
      " 38  TotalBsmtSF    1460 non-null   int64  \n",
      " 39  Heating        1460 non-null   object \n",
      " 40  HeatingQC      1460 non-null   object \n",
      " 41  CentralAir     1460 non-null   object \n",
      " 42  Electrical     1459 non-null   object \n",
      " 43  1stFlrSF       1460 non-null   int64  \n",
      " 44  2ndFlrSF       1460 non-null   int64  \n",
      " 45  LowQualFinSF   1460 non-null   int64  \n",
      " 46  GrLivArea      1460 non-null   int64  \n",
      " 47  BsmtFullBath   1460 non-null   int64  \n",
      " 48  BsmtHalfBath   1460 non-null   int64  \n",
      " 49  FullBath       1460 non-null   int64  \n",
      " 50  HalfBath       1460 non-null   int64  \n",
      " 51  BedroomAbvGr   1460 non-null   int64  \n",
      " 52  KitchenAbvGr   1460 non-null   int64  \n",
      " 53  KitchenQual    1460 non-null   object \n",
      " 54  TotRmsAbvGrd   1460 non-null   int64  \n",
      " 55  Functional     1460 non-null   object \n",
      " 56  Fireplaces     1460 non-null   int64  \n",
      " 57  FireplaceQu    770 non-null    object \n",
      " 58  GarageType     1379 non-null   object \n",
      " 59  GarageYrBlt    1379 non-null   float64\n",
      " 60  GarageFinish   1379 non-null   object \n",
      " 61  GarageCars     1460 non-null   int64  \n",
      " 62  GarageArea     1460 non-null   int64  \n",
      " 63  GarageQual     1379 non-null   object \n",
      " 64  GarageCond     1379 non-null   object \n",
      " 65  PavedDrive     1460 non-null   object \n",
      " 66  WoodDeckSF     1460 non-null   int64  \n",
      " 67  OpenPorchSF    1460 non-null   int64  \n",
      " 68  EnclosedPorch  1460 non-null   int64  \n",
      " 69  3SsnPorch      1460 non-null   int64  \n",
      " 70  ScreenPorch    1460 non-null   int64  \n",
      " 71  PoolArea       1460 non-null   int64  \n",
      " 72  PoolQC         7 non-null      object \n",
      " 73  Fence          281 non-null    object \n",
      " 74  MiscFeature    54 non-null     object \n",
      " 75  MiscVal        1460 non-null   int64  \n",
      " 76  MoSold         1460 non-null   int64  \n",
      " 77  YrSold         1460 non-null   int64  \n",
      " 78  SaleType       1460 non-null   object \n",
      " 79  SaleCondition  1460 non-null   object \n",
      " 80  SalePrice      1460 non-null   int64  \n",
      "dtypes: float64(3), int64(35), object(43)\n",
      "memory usage: 924.0+ KB\n"
     ]
    }
   ],
   "source": [
    "train.info()"
   ]
  },
  {
   "cell_type": "markdown",
   "id": "ff2eb272",
   "metadata": {
    "papermill": {
     "duration": 0.012413,
     "end_time": "2024-07-29T18:19:53.161616",
     "exception": false,
     "start_time": "2024-07-29T18:19:53.149203",
     "status": "completed"
    },
    "tags": []
   },
   "source": [
    "# Handling with the Outliers"
   ]
  },
  {
   "cell_type": "code",
   "execution_count": 7,
   "id": "d1200d1c",
   "metadata": {
    "execution": {
     "iopub.execute_input": "2024-07-29T18:19:53.189177Z",
     "iopub.status.busy": "2024-07-29T18:19:53.188362Z",
     "iopub.status.idle": "2024-07-29T18:19:53.195242Z",
     "shell.execute_reply": "2024-07-29T18:19:53.194103Z"
    },
    "papermill": {
     "duration": 0.023361,
     "end_time": "2024-07-29T18:19:53.197737",
     "exception": false,
     "start_time": "2024-07-29T18:19:53.174376",
     "status": "completed"
    },
    "tags": []
   },
   "outputs": [],
   "source": [
    "def plot_outliers(df, column):\n",
    "    plt.figure(figsize=(10, 5))\n",
    "    plt.subplot(1, 2, 1)\n",
    "    sns.boxplot(df[column])\n",
    "    plt.title(f'{column} - Box Plot')\n",
    "    \n",
    "    plt.subplot(1, 2, 2)\n",
    "    sns.histplot(df[column], kde=True)\n",
    "    plt.title(f'{column} - Histogram')"
   ]
  },
  {
   "cell_type": "code",
   "execution_count": 8,
   "id": "b1667cfa",
   "metadata": {
    "execution": {
     "iopub.execute_input": "2024-07-29T18:19:53.225515Z",
     "iopub.status.busy": "2024-07-29T18:19:53.224533Z",
     "iopub.status.idle": "2024-07-29T18:19:54.738665Z",
     "shell.execute_reply": "2024-07-29T18:19:54.737391Z"
    },
    "papermill": {
     "duration": 1.531795,
     "end_time": "2024-07-29T18:19:54.742241",
     "exception": false,
     "start_time": "2024-07-29T18:19:53.210446",
     "status": "completed"
    },
    "tags": []
   },
   "outputs": [
    {
     "data": {
      "image/png": "[encoded data removed]",
      "text/plain": [
       "<Figure size 1000x500 with 2 Axes>"
      ]
     },
     "metadata": {},
     "output_type": "display_data"
    },
    {
     "data": {
      "image/png": "[encoded data removed]",
      "text/plain": [
       "<Figure size 1000x500 with 2 Axes>"
      ]
     },
     "metadata": {},
     "output_type": "display_data"
    }
   ],
   "source": [
    "plot_outliers(train, 'GrLivArea')\n",
    "plot_outliers(train, 'TotalBsmtSF')"
   ]
  },
  {
   "cell_type": "code",
   "execution_count": 9,
   "id": "d2888c54",
   "metadata": {
    "execution": {
     "iopub.execute_input": "2024-07-29T18:19:54.777513Z",
     "iopub.status.busy": "2024-07-29T18:19:54.776501Z",
     "iopub.status.idle": "2024-07-29T18:19:54.792713Z",
     "shell.execute_reply": "2024-07-29T18:19:54.791542Z"
    },
    "papermill": {
     "duration": 0.035758,
     "end_time": "2024-07-29T18:19:54.795514",
     "exception": false,
     "start_time": "2024-07-29T18:19:54.759756",
     "status": "completed"
    },
    "tags": []
   },
   "outputs": [],
   "source": [
    "def remove_outliers(df, column):\n",
    "    Q1 = df[column].quantile(0.25)\n",
    "    Q3 = df[column].quantile(0.75)\n",
    "    IQR = Q3 - Q1\n",
    "    lower_bound = Q1 - 1.5 * IQR\n",
    "    upper_bound = Q3 + 1.5 * IQR\n",
    "    df = df[(df[column] >= lower_bound) & (df[column] <= upper_bound)]\n",
    "    return df\n",
    "\n",
    "train = remove_outliers(train, 'GrLivArea')\n",
    "train = remove_outliers(train, 'TotalBsmtSF')"
   ]
  },
  {
   "cell_type": "markdown",
   "id": "496c923a",
   "metadata": {
    "papermill": {
     "duration": 0.013846,
     "end_time": "2024-07-29T18:19:54.823535",
     "exception": false,
     "start_time": "2024-07-29T18:19:54.809689",
     "status": "completed"
    },
    "tags": []
   },
   "source": [
    "# Filling missing values"
   ]
  },
  {
   "cell_type": "code",
   "execution_count": 10,
   "id": "7e1918a0",
   "metadata": {
    "execution": {
     "iopub.execute_input": "2024-07-29T18:19:54.853545Z",
     "iopub.status.busy": "2024-07-29T18:19:54.853099Z",
     "iopub.status.idle": "2024-07-29T18:19:54.892420Z",
     "shell.execute_reply": "2024-07-29T18:19:54.891017Z"
    },
    "papermill": {
     "duration": 0.05755,
     "end_time": "2024-07-29T18:19:54.895172",
     "exception": false,
     "start_time": "2024-07-29T18:19:54.837622",
     "status": "completed"
    },
    "tags": []
   },
   "outputs": [
    {
     "data": {
      "text/html": [
       "<div>\n",
       "<style scoped>\n",
       "    .dataframe tbody tr th:only-of-type {\n",
       "        vertical-align: middle;\n",
       "    }\n",
       "\n",
       "    .dataframe tbody tr th {\n",
       "        vertical-align: top;\n",
       "    }\n",
       "\n",
       "    .dataframe thead th {\n",
       "        text-align: right;\n",
       "    }\n",
       "</style>\n",
       "<table border=\"1\" class=\"dataframe\">\n",
       "  <thead>\n",
       "    <tr style=\"text-align: right;\">\n",
       "      <th></th>\n",
       "      <th>Total</th>\n",
       "      <th>Percent</th>\n",
       "    </tr>\n",
       "  </thead>\n",
       "  <tbody>\n",
       "    <tr>\n",
       "      <th>PoolQC</th>\n",
       "      <td>1364</td>\n",
       "      <td>0.997805</td>\n",
       "    </tr>\n",
       "    <tr>\n",
       "      <th>MiscFeature</th>\n",
       "      <td>1318</td>\n",
       "      <td>0.964155</td>\n",
       "    </tr>\n",
       "    <tr>\n",
       "      <th>Alley</th>\n",
       "      <td>1279</td>\n",
       "      <td>0.935625</td>\n",
       "    </tr>\n",
       "    <tr>\n",
       "      <th>Fence</th>\n",
       "      <td>1099</td>\n",
       "      <td>0.803950</td>\n",
       "    </tr>\n",
       "    <tr>\n",
       "      <th>MasVnrType</th>\n",
       "      <td>819</td>\n",
       "      <td>0.599122</td>\n",
       "    </tr>\n",
       "    <tr>\n",
       "      <th>FireplaceQu</th>\n",
       "      <td>659</td>\n",
       "      <td>0.482078</td>\n",
       "    </tr>\n",
       "    <tr>\n",
       "      <th>LotFrontage</th>\n",
       "      <td>246</td>\n",
       "      <td>0.179956</td>\n",
       "    </tr>\n",
       "    <tr>\n",
       "      <th>GarageYrBlt</th>\n",
       "      <td>72</td>\n",
       "      <td>0.052670</td>\n",
       "    </tr>\n",
       "    <tr>\n",
       "      <th>GarageFinish</th>\n",
       "      <td>72</td>\n",
       "      <td>0.052670</td>\n",
       "    </tr>\n",
       "    <tr>\n",
       "      <th>GarageQual</th>\n",
       "      <td>72</td>\n",
       "      <td>0.052670</td>\n",
       "    </tr>\n",
       "    <tr>\n",
       "      <th>GarageCond</th>\n",
       "      <td>72</td>\n",
       "      <td>0.052670</td>\n",
       "    </tr>\n",
       "    <tr>\n",
       "      <th>GarageType</th>\n",
       "      <td>72</td>\n",
       "      <td>0.052670</td>\n",
       "    </tr>\n",
       "    <tr>\n",
       "      <th>MasVnrArea</th>\n",
       "      <td>6</td>\n",
       "      <td>0.004389</td>\n",
       "    </tr>\n",
       "    <tr>\n",
       "      <th>BsmtExposure</th>\n",
       "      <td>1</td>\n",
       "      <td>0.000732</td>\n",
       "    </tr>\n",
       "    <tr>\n",
       "      <th>Electrical</th>\n",
       "      <td>1</td>\n",
       "      <td>0.000732</td>\n",
       "    </tr>\n",
       "    <tr>\n",
       "      <th>KitchenQual</th>\n",
       "      <td>0</td>\n",
       "      <td>0.000000</td>\n",
       "    </tr>\n",
       "    <tr>\n",
       "      <th>KitchenAbvGr</th>\n",
       "      <td>0</td>\n",
       "      <td>0.000000</td>\n",
       "    </tr>\n",
       "    <tr>\n",
       "      <th>TotRmsAbvGrd</th>\n",
       "      <td>0</td>\n",
       "      <td>0.000000</td>\n",
       "    </tr>\n",
       "    <tr>\n",
       "      <th>Functional</th>\n",
       "      <td>0</td>\n",
       "      <td>0.000000</td>\n",
       "    </tr>\n",
       "    <tr>\n",
       "      <th>HalfBath</th>\n",
       "      <td>0</td>\n",
       "      <td>0.000000</td>\n",
       "    </tr>\n",
       "  </tbody>\n",
       "</table>\n",
       "</div>"
      ],
      "text/plain": [
       "              Total   Percent\n",
       "PoolQC         1364  0.997805\n",
       "MiscFeature    1318  0.964155\n",
       "Alley          1279  0.935625\n",
       "Fence          1099  0.803950\n",
       "MasVnrType      819  0.599122\n",
       "FireplaceQu     659  0.482078\n",
       "LotFrontage     246  0.179956\n",
       "GarageYrBlt      72  0.052670\n",
       "GarageFinish     72  0.052670\n",
       "GarageQual       72  0.052670\n",
       "GarageCond       72  0.052670\n",
       "GarageType       72  0.052670\n",
       "MasVnrArea        6  0.004389\n",
       "BsmtExposure      1  0.000732\n",
       "Electrical        1  0.000732\n",
       "KitchenQual       0  0.000000\n",
       "KitchenAbvGr      0  0.000000\n",
       "TotRmsAbvGrd      0  0.000000\n",
       "Functional        0  0.000000\n",
       "HalfBath          0  0.000000"
      ]
     },
     "execution_count": 10,
     "metadata": {},
     "output_type": "execute_result"
    }
   ],
   "source": [
    "missing_data = train.isnull().sum().sort_values(ascending=False)\n",
    "missing_percentage = (train.isnull().sum() / train.isnull().count()).sort_values(ascending=False)\n",
    "missing_info = pd.concat([missing_data, missing_percentage], axis=1, keys=['Total', 'Percent'])\n",
    "missing_info.head(20)"
   ]
  },
  {
   "cell_type": "code",
   "execution_count": 11,
   "id": "bb1a5194",
   "metadata": {
    "execution": {
     "iopub.execute_input": "2024-07-29T18:19:54.926531Z",
     "iopub.status.busy": "2024-07-29T18:19:54.925502Z",
     "iopub.status.idle": "2024-07-29T18:19:54.932701Z",
     "shell.execute_reply": "2024-07-29T18:19:54.931610Z"
    },
    "papermill": {
     "duration": 0.025598,
     "end_time": "2024-07-29T18:19:54.935195",
     "exception": false,
     "start_time": "2024-07-29T18:19:54.909597",
     "status": "completed"
    },
    "tags": []
   },
   "outputs": [],
   "source": [
    "# Splitting categorical and numerical feats\n",
    "categorical_feats = train.select_dtypes(include=['object']).columns\n",
    "numerical_feats = train.select_dtypes(exclude=['object']).columns"
   ]
  },
  {
   "cell_type": "code",
   "execution_count": 12,
   "id": "dafc373d",
   "metadata": {
    "execution": {
     "iopub.execute_input": "2024-07-29T18:19:54.966350Z",
     "iopub.status.busy": "2024-07-29T18:19:54.965107Z",
     "iopub.status.idle": "2024-07-29T18:19:54.996417Z",
     "shell.execute_reply": "2024-07-29T18:19:54.995132Z"
    },
    "papermill": {
     "duration": 0.050219,
     "end_time": "2024-07-29T18:19:54.999699",
     "exception": false,
     "start_time": "2024-07-29T18:19:54.949480",
     "status": "completed"
    },
    "tags": []
   },
   "outputs": [],
   "source": [
    "# Identify columns with missing values\n",
    "missing_cat_cols = [col for col in categorical_feats if train[col].isnull().sum() > 0]\n",
    "missing_num_cols = [col for col in numerical_feats if train[col].isnull().sum() > 0]"
   ]
  },
  {
   "cell_type": "markdown",
   "id": "13a10dd9",
   "metadata": {
    "papermill": {
     "duration": 0.014357,
     "end_time": "2024-07-29T18:19:55.028834",
     "exception": false,
     "start_time": "2024-07-29T18:19:55.014477",
     "status": "completed"
    },
    "tags": []
   },
   "source": [
    "### According to the dataset documentation, NaN values in certain categorical columns indicate the absence of the feature. Hence, filling them with 'None'."
   ]
  },
  {
   "cell_type": "code",
   "execution_count": 13,
   "id": "5703bb7a",
   "metadata": {
    "execution": {
     "iopub.execute_input": "2024-07-29T18:19:55.060160Z",
     "iopub.status.busy": "2024-07-29T18:19:55.059732Z",
     "iopub.status.idle": "2024-07-29T18:19:55.087329Z",
     "shell.execute_reply": "2024-07-29T18:19:55.086131Z"
    },
    "papermill": {
     "duration": 0.046788,
     "end_time": "2024-07-29T18:19:55.090133",
     "exception": false,
     "start_time": "2024-07-29T18:19:55.043345",
     "status": "completed"
    },
    "tags": []
   },
   "outputs": [],
   "source": [
    "def fill_missing_values(df, cat_cols, num_cols):\n",
    "\n",
    "    for col in cat_cols:\n",
    "        if 'Pool' in col or 'Garage' in col or 'Fireplace' in col or 'Bsmt' in col or 'Alley' in col or 'Fence' in col or 'MiscFeature' in col:\n",
    "            df[col].fillna('None', inplace=True)\n",
    "        else:\n",
    "            df[col].fillna(df[col].mode()[0], inplace=True)\n",
    "    \n",
    "    for col in num_cols:\n",
    "        df[col].fillna(df[col].median(), inplace=True)\n",
    "\n",
    "fill_missing_values(train, missing_cat_cols, missing_num_cols)\n",
    "fill_missing_values(test, missing_cat_cols, missing_num_cols)"
   ]
  },
  {
   "cell_type": "code",
   "execution_count": 14,
   "id": "7aabe93e",
   "metadata": {
    "execution": {
     "iopub.execute_input": "2024-07-29T18:19:55.121411Z",
     "iopub.status.busy": "2024-07-29T18:19:55.120949Z",
     "iopub.status.idle": "2024-07-29T18:19:55.211842Z",
     "shell.execute_reply": "2024-07-29T18:19:55.210699Z"
    },
    "papermill": {
     "duration": 0.109851,
     "end_time": "2024-07-29T18:19:55.214835",
     "exception": false,
     "start_time": "2024-07-29T18:19:55.104984",
     "status": "completed"
    },
    "tags": []
   },
   "outputs": [],
   "source": [
    "train['LotFrontage'] = train.groupby('Neighborhood')['LotFrontage'].transform(lambda x: x.fillna(x.median()))\n",
    "test['LotFrontage'] = test.groupby('Neighborhood')['LotFrontage'].transform(lambda x: x.fillna(x.median()))\n",
    "\n",
    "train['GarageYrBlt'] = train.apply(lambda row: 0 if row['GarageType'] == 'None' else row['GarageYrBlt'], axis=1)\n",
    "test['GarageYrBlt'] = test.apply(lambda row: 0 if row['GarageType'] == 'None' else row['GarageYrBlt'], axis=1)"
   ]
  },
  {
   "cell_type": "markdown",
   "id": "d6b423d1",
   "metadata": {
    "papermill": {
     "duration": 0.014291,
     "end_time": "2024-07-29T18:19:55.243875",
     "exception": false,
     "start_time": "2024-07-29T18:19:55.229584",
     "status": "completed"
    },
    "tags": []
   },
   "source": [
    "# Feature Engineering"
   ]
  },
  {
   "cell_type": "code",
   "execution_count": 15,
   "id": "d3e9f7d0",
   "metadata": {
    "execution": {
     "iopub.execute_input": "2024-07-29T18:19:55.274994Z",
     "iopub.status.busy": "2024-07-29T18:19:55.274565Z",
     "iopub.status.idle": "2024-07-29T18:19:55.285418Z",
     "shell.execute_reply": "2024-07-29T18:19:55.284164Z"
    },
    "papermill": {
     "duration": 0.029834,
     "end_time": "2024-07-29T18:19:55.288041",
     "exception": false,
     "start_time": "2024-07-29T18:19:55.258207",
     "status": "completed"
    },
    "tags": []
   },
   "outputs": [],
   "source": [
    "train['HouseAge'] = train['YrSold'] - train['YearBuilt']\n",
    "train['RemodAge'] = train['YrSold'] - train['YearRemodAdd']\n",
    "test['HouseAge'] = test['YrSold'] - test['YearBuilt']\n",
    "test['RemodAge'] = test['YrSold'] - test['YearRemodAdd']"
   ]
  },
  {
   "cell_type": "code",
   "execution_count": 16,
   "id": "1535313a",
   "metadata": {
    "execution": {
     "iopub.execute_input": "2024-07-29T18:19:55.319237Z",
     "iopub.status.busy": "2024-07-29T18:19:55.318783Z",
     "iopub.status.idle": "2024-07-29T18:19:55.336234Z",
     "shell.execute_reply": "2024-07-29T18:19:55.335004Z"
    },
    "papermill": {
     "duration": 0.036535,
     "end_time": "2024-07-29T18:19:55.338964",
     "exception": false,
     "start_time": "2024-07-29T18:19:55.302429",
     "status": "completed"
    },
    "tags": []
   },
   "outputs": [],
   "source": [
    "train['TotalBathrooms'] = (train['FullBath'] + (0.5 * train['HalfBath']) + train['BsmtFullBath'] + (0.5 * train['BsmtHalfBath']))\n",
    "test['TotalBathrooms'] = (test['FullBath'] + (0.5 * test['HalfBath']) + test['BsmtFullBath'] + (0.5 * test['BsmtHalfBath']))\n",
    "\n",
    "train['TotalPorchSF'] = (train['OpenPorchSF'] + train['3SsnPorch'] + train['EnclosedPorch'] + train['ScreenPorch'] + train['WoodDeckSF'])\n",
    "test['TotalPorchSF'] = (test['OpenPorchSF'] + test['3SsnPorch'] + test['EnclosedPorch'] + test['ScreenPorch'] + test['WoodDeckSF'])\n",
    "\n",
    "train['TotalRooms'] = train['TotRmsAbvGrd'] + train['TotalBsmtSF']\n",
    "test['TotalRooms'] = test['TotRmsAbvGrd'] + test['TotalBsmtSF']"
   ]
  },
  {
   "cell_type": "markdown",
   "id": "b6826db5",
   "metadata": {
    "papermill": {
     "duration": 0.015685,
     "end_time": "2024-07-29T18:19:55.369473",
     "exception": false,
     "start_time": "2024-07-29T18:19:55.353788",
     "status": "completed"
    },
    "tags": []
   },
   "source": [
    "# Encoding"
   ]
  },
  {
   "cell_type": "code",
   "execution_count": 17,
   "id": "a6b3686b",
   "metadata": {
    "execution": {
     "iopub.execute_input": "2024-07-29T18:19:55.401239Z",
     "iopub.status.busy": "2024-07-29T18:19:55.400779Z",
     "iopub.status.idle": "2024-07-29T18:19:55.491827Z",
     "shell.execute_reply": "2024-07-29T18:19:55.490558Z"
    },
    "papermill": {
     "duration": 0.109774,
     "end_time": "2024-07-29T18:19:55.494767",
     "exception": false,
     "start_time": "2024-07-29T18:19:55.384993",
     "status": "completed"
    },
    "tags": []
   },
   "outputs": [],
   "source": [
    "y = train['SalePrice']\n",
    "train_ids = train['Id']\n",
    "test_ids = test['Id']\n",
    "\n",
    "train.drop(['SalePrice', 'Id'], axis=1, inplace=True)\n",
    "test.drop('Id', axis=1, inplace=True)\n",
    "\n",
    "train = pd.get_dummies(train, drop_first=True)\n",
    "test = pd.get_dummies(test, drop_first=True)"
   ]
  },
  {
   "cell_type": "markdown",
   "id": "c0fc52fc",
   "metadata": {
    "papermill": {
     "duration": 0.014282,
     "end_time": "2024-07-29T18:19:55.523664",
     "exception": false,
     "start_time": "2024-07-29T18:19:55.509382",
     "status": "completed"
    },
    "tags": []
   },
   "source": [
    "# Model Training and Evaluation"
   ]
  },
  {
   "cell_type": "code",
   "execution_count": 18,
   "id": "210693df",
   "metadata": {
    "execution": {
     "iopub.execute_input": "2024-07-29T18:19:55.555222Z",
     "iopub.status.busy": "2024-07-29T18:19:55.554724Z",
     "iopub.status.idle": "2024-07-29T18:19:55.574866Z",
     "shell.execute_reply": "2024-07-29T18:19:55.573410Z"
    },
    "papermill": {
     "duration": 0.039238,
     "end_time": "2024-07-29T18:19:55.578041",
     "exception": false,
     "start_time": "2024-07-29T18:19:55.538803",
     "status": "completed"
    },
    "tags": []
   },
   "outputs": [],
   "source": [
    "# Align train and test sets\n",
    "train, test = train.align(test, join='outer', axis=1, fill_value=0)\n",
    "\n",
    "X = train\n",
    "\n",
    "# Splitting the data into training and test sets\n",
    "X_train, X_test, y_train, y_test = train_test_split(X, y, test_size=0.2, random_state=101)"
   ]
  },
  {
   "cell_type": "code",
   "execution_count": 19,
   "id": "4bbf7b94",
   "metadata": {
    "execution": {
     "iopub.execute_input": "2024-07-29T18:19:55.609432Z",
     "iopub.status.busy": "2024-07-29T18:19:55.608918Z",
     "iopub.status.idle": "2024-07-29T18:19:55.620879Z",
     "shell.execute_reply": "2024-07-29T18:19:55.619633Z"
    },
    "papermill": {
     "duration": 0.030712,
     "end_time": "2024-07-29T18:19:55.623482",
     "exception": false,
     "start_time": "2024-07-29T18:19:55.592770",
     "status": "completed"
    },
    "tags": []
   },
   "outputs": [],
   "source": [
    "# Model and hyperparameter settings\n",
    "models = {\n",
    "    'LinearRegression': LinearRegression(),\n",
    "    'Ridge': Ridge(),\n",
    "    'Lasso': Lasso(),\n",
    "    'ElasticNet': ElasticNet(),\n",
    "    'RandomForest': RandomForestRegressor(),\n",
    "    'XGBRegressor': XGBRegressor(),\n",
    "    'CatBoost': CatBoostRegressor(verbose=0)\n",
    "}\n",
    "\n",
    "params = {\n",
    "    'LinearRegression': {},\n",
    "    'Ridge': {'alpha': [0.1, 1.0, 10.0]},\n",
    "    'Lasso': {'alpha': [0.01, 0.1, 1.0]},\n",
    "    'ElasticNet': {'alpha': [0.01, 0.1, 1.0], 'l1_ratio': [0.1, 0.5, 0.9]},\n",
    "    'RandomForest': {'n_estimators': [100, 200], 'max_features': ['auto', 'sqrt', 'log2']},\n",
    "    'XGBRegressor': {'n_estimators': [100, 200], 'learning_rate': [0.01, 0.1]},\n",
    "    'CatBoost': {'iterations': [100, 200], 'learning_rate': [0.01, 0.1]}\n",
    "}"
   ]
  },
  {
   "cell_type": "markdown",
   "id": "11eb0479",
   "metadata": {
    "papermill": {
     "duration": 0.014779,
     "end_time": "2024-07-29T18:19:55.653431",
     "exception": false,
     "start_time": "2024-07-29T18:19:55.638652",
     "status": "completed"
    },
    "tags": []
   },
   "source": [
    "# Train and Evaluate Models"
   ]
  },
  {
   "cell_type": "code",
   "execution_count": 20,
   "id": "0e1cedcc",
   "metadata": {
    "execution": {
     "iopub.execute_input": "2024-07-29T18:19:55.684579Z",
     "iopub.status.busy": "2024-07-29T18:19:55.684153Z",
     "iopub.status.idle": "2024-07-29T18:21:52.192961Z",
     "shell.execute_reply": "2024-07-29T18:21:52.191805Z"
    },
    "papermill": {
     "duration": 116.542393,
     "end_time": "2024-07-29T18:21:52.210410",
     "exception": false,
     "start_time": "2024-07-29T18:19:55.668017",
     "status": "completed"
    },
    "tags": []
   },
   "outputs": [
    {
     "name": "stdout",
     "output_type": "stream",
     "text": [
      "LinearRegression Mean Absolute Error (MAE): 52665215.07\n",
      "LinearRegression Mean Squared Error (MSE): 232523552233550432.00\n",
      "LinearRegression Root Mean Squared Error (RMSE): 482206959.96\n",
      "LinearRegression R-squared (R2): -55360607.99\n",
      "Ridge Mean Absolute Error (MAE): 14284.90\n",
      "Ridge Mean Squared Error (MSE): 363876538.16\n",
      "Ridge Root Mean Squared Error (RMSE): 19075.55\n",
      "Ridge R-squared (R2): 0.91\n",
      "Lasso Mean Absolute Error (MAE): 15058.96\n",
      "Lasso Mean Squared Error (MSE): 409453835.12\n",
      "Lasso Root Mean Squared Error (RMSE): 20234.97\n",
      "Lasso R-squared (R2): 0.90\n",
      "ElasticNet Mean Absolute Error (MAE): 14285.34\n",
      "ElasticNet Mean Squared Error (MSE): 363808249.23\n",
      "ElasticNet Root Mean Squared Error (RMSE): 19073.76\n",
      "ElasticNet R-squared (R2): 0.91\n",
      "RandomForest Mean Absolute Error (MAE): 15294.77\n",
      "RandomForest Mean Squared Error (MSE): 475591555.37\n",
      "RandomForest Root Mean Squared Error (RMSE): 21808.06\n",
      "RandomForest R-squared (R2): 0.89\n",
      "XGBRegressor Mean Absolute Error (MAE): 14508.66\n",
      "XGBRegressor Mean Squared Error (MSE): 420242516.84\n",
      "XGBRegressor Root Mean Squared Error (RMSE): 20499.82\n",
      "XGBRegressor R-squared (R2): 0.90\n",
      "CatBoost Mean Absolute Error (MAE): 13471.27\n",
      "CatBoost Mean Squared Error (MSE): 351806424.45\n",
      "CatBoost Root Mean Squared Error (RMSE): 18756.50\n",
      "CatBoost R-squared (R2): 0.92\n"
     ]
    }
   ],
   "source": [
    "results = {}\n",
    "for model_name in models:\n",
    "    model = models[model_name]\n",
    "    param = params[model_name]\n",
    "    grid = GridSearchCV(model, param, cv=5, scoring='neg_mean_squared_error')\n",
    "    grid.fit(X_train, y_train)\n",
    "    \n",
    "    y_pred = grid.best_estimator_.predict(X_test)\n",
    "    mse = mean_squared_error(y_test, y_pred)\n",
    "    mae = mean_absolute_error(y_test, y_pred)\n",
    "    rmse = np.sqrt(mse)\n",
    "    r2 = r2_score(y_test, y_pred)\n",
    "    \n",
    "    results[model_name] = {\n",
    "        'best_params': grid.best_params_,\n",
    "        'mse': mse,\n",
    "        'mae': mae,\n",
    "        'rmse': rmse,\n",
    "        'r2': r2\n",
    "    }\n",
    "    print(f\"{model_name} Mean Absolute Error (MAE): {mae:.2f}\")\n",
    "    print(f\"{model_name} Mean Squared Error (MSE): {mse:.2f}\")\n",
    "    print(f\"{model_name} Root Mean Squared Error (RMSE): {rmse:.2f}\")\n",
    "    print(f\"{model_name} R-squared (R2): {r2:.2f}\")"
   ]
  },
  {
   "cell_type": "markdown",
   "id": "a870daa9",
   "metadata": {
    "papermill": {
     "duration": 0.01519,
     "end_time": "2024-07-29T18:21:52.240753",
     "exception": false,
     "start_time": "2024-07-29T18:21:52.225563",
     "status": "completed"
    },
    "tags": []
   },
   "source": [
    "# Select the Best Model"
   ]
  },
  {
   "cell_type": "code",
   "execution_count": 21,
   "id": "09e0c89f",
   "metadata": {
    "execution": {
     "iopub.execute_input": "2024-07-29T18:21:52.274337Z",
     "iopub.status.busy": "2024-07-29T18:21:52.272934Z",
     "iopub.status.idle": "2024-07-29T18:21:52.279237Z",
     "shell.execute_reply": "2024-07-29T18:21:52.278070Z"
    },
    "papermill": {
     "duration": 0.02587,
     "end_time": "2024-07-29T18:21:52.282037",
     "exception": false,
     "start_time": "2024-07-29T18:21:52.256167",
     "status": "completed"
    },
    "tags": []
   },
   "outputs": [],
   "source": [
    "best_model_name = min(results, key=lambda x: results[x]['mse'])\n",
    "best_model = models[best_model_name]"
   ]
  },
  {
   "cell_type": "code",
   "execution_count": 22,
   "id": "4721883d",
   "metadata": {
    "execution": {
     "iopub.execute_input": "2024-07-29T18:21:52.314885Z",
     "iopub.status.busy": "2024-07-29T18:21:52.314173Z",
     "iopub.status.idle": "2024-07-29T18:21:52.321268Z",
     "shell.execute_reply": "2024-07-29T18:21:52.320088Z"
    },
    "papermill": {
     "duration": 0.026805,
     "end_time": "2024-07-29T18:21:52.324412",
     "exception": false,
     "start_time": "2024-07-29T18:21:52.297607",
     "status": "completed"
    },
    "tags": []
   },
   "outputs": [
    {
     "name": "stdout",
     "output_type": "stream",
     "text": [
      "\n",
      "Best Model: CatBoost\n",
      "Best Parameters: {'iterations': 200, 'learning_rate': 0.1}\n",
      "Best MAE: 13471.27\n",
      "Best MSE: 351806424.45\n",
      "Best RMSE: 18756.50\n",
      "Best R2: 0.92\n"
     ]
    }
   ],
   "source": [
    "print(f\"\\nBest Model: {best_model_name}\")\n",
    "print(f\"Best Parameters: {results[best_model_name]['best_params']}\")\n",
    "print(f\"Best MAE: {results[best_model_name]['mae']:.2f}\")\n",
    "print(f\"Best MSE: {results[best_model_name]['mse']:.2f}\")\n",
    "print(f\"Best RMSE: {results[best_model_name]['rmse']:.2f}\")\n",
    "print(f\"Best R2: {results[best_model_name]['r2']:.2f}\")"
   ]
  },
  {
   "cell_type": "markdown",
   "id": "4a8793d5",
   "metadata": {
    "papermill": {
     "duration": 0.015795,
     "end_time": "2024-07-29T18:21:52.355458",
     "exception": false,
     "start_time": "2024-07-29T18:21:52.339663",
     "status": "completed"
    },
    "tags": []
   },
   "source": [
    "# Train the Best Model on the Entire Data"
   ]
  },
  {
   "cell_type": "code",
   "execution_count": 23,
   "id": "f78ae61e",
   "metadata": {
    "execution": {
     "iopub.execute_input": "2024-07-29T18:21:52.388111Z",
     "iopub.status.busy": "2024-07-29T18:21:52.387360Z",
     "iopub.status.idle": "2024-07-29T18:21:57.337431Z",
     "shell.execute_reply": "2024-07-29T18:21:57.336169Z"
    },
    "papermill": {
     "duration": 4.969678,
     "end_time": "2024-07-29T18:21:57.340296",
     "exception": false,
     "start_time": "2024-07-29T18:21:52.370618",
     "status": "completed"
    },
    "tags": []
   },
   "outputs": [],
   "source": [
    "best_model.fit(X, y)\n",
    "\n",
    "test_predictions = best_model.predict(test) "
   ]
  },
  {
   "cell_type": "markdown",
   "id": "3508aa54",
   "metadata": {
    "papermill": {
     "duration": 0.015885,
     "end_time": "2024-07-29T18:21:57.372499",
     "exception": false,
     "start_time": "2024-07-29T18:21:57.356614",
     "status": "completed"
    },
    "tags": []
   },
   "source": [
    "# Save Predictions"
   ]
  },
  {
   "cell_type": "code",
   "execution_count": 24,
   "id": "f06c5fbf",
   "metadata": {
    "execution": {
     "iopub.execute_input": "2024-07-29T18:21:57.404808Z",
     "iopub.status.busy": "2024-07-29T18:21:57.404432Z",
     "iopub.status.idle": "2024-07-29T18:21:57.418365Z",
     "shell.execute_reply": "2024-07-29T18:21:57.417288Z"
    },
    "papermill": {
     "duration": 0.033479,
     "end_time": "2024-07-29T18:21:57.421212",
     "exception": false,
     "start_time": "2024-07-29T18:21:57.387733",
     "status": "completed"
    },
    "tags": []
   },
   "outputs": [],
   "source": [
    "submission = pd.DataFrame({\n",
    "    'Id': test_ids, \n",
    "    'SalePrice': test_predictions\n",
    "})\n",
    "submission.to_csv('submission.csv', index=False)"
   ]
  },
  {
   "cell_type": "code",
   "execution_count": 25,
   "id": "322b2930",
   "metadata": {
    "execution": {
     "iopub.execute_input": "2024-07-29T18:21:57.453255Z",
     "iopub.status.busy": "2024-07-29T18:21:57.452837Z",
     "iopub.status.idle": "2024-07-29T18:21:57.463853Z",
     "shell.execute_reply": "2024-07-29T18:21:57.462835Z"
    },
    "papermill": {
     "duration": 0.02989,
     "end_time": "2024-07-29T18:21:57.466248",
     "exception": false,
     "start_time": "2024-07-29T18:21:57.436358",
     "status": "completed"
    },
    "tags": []
   },
   "outputs": [
    {
     "data": {
      "text/html": [
       "<div>\n",
       "<style scoped>\n",
       "    .dataframe tbody tr th:only-of-type {\n",
       "        vertical-align: middle;\n",
       "    }\n",
       "\n",
       "    .dataframe tbody tr th {\n",
       "        vertical-align: top;\n",
       "    }\n",
       "\n",
       "    .dataframe thead th {\n",
       "        text-align: right;\n",
       "    }\n",
       "</style>\n",
       "<table border=\"1\" class=\"dataframe\">\n",
       "  <thead>\n",
       "    <tr style=\"text-align: right;\">\n",
       "      <th></th>\n",
       "      <th>Id</th>\n",
       "      <th>SalePrice</th>\n",
       "    </tr>\n",
       "  </thead>\n",
       "  <tbody>\n",
       "    <tr>\n",
       "      <th>0</th>\n",
       "      <td>1461</td>\n",
       "      <td>127120.368424</td>\n",
       "    </tr>\n",
       "    <tr>\n",
       "      <th>1</th>\n",
       "      <td>1462</td>\n",
       "      <td>163534.605498</td>\n",
       "    </tr>\n",
       "    <tr>\n",
       "      <th>2</th>\n",
       "      <td>1463</td>\n",
       "      <td>187075.832133</td>\n",
       "    </tr>\n",
       "    <tr>\n",
       "      <th>3</th>\n",
       "      <td>1464</td>\n",
       "      <td>193281.358038</td>\n",
       "    </tr>\n",
       "    <tr>\n",
       "      <th>4</th>\n",
       "      <td>1465</td>\n",
       "      <td>178733.050827</td>\n",
       "    </tr>\n",
       "  </tbody>\n",
       "</table>\n",
       "</div>"
      ],
      "text/plain": [
       "     Id      SalePrice\n",
       "0  1461  127120.368424\n",
       "1  1462  163534.605498\n",
       "2  1463  187075.832133\n",
       "3  1464  193281.358038\n",
       "4  1465  178733.050827"
      ]
     },
     "execution_count": 25,
     "metadata": {},
     "output_type": "execute_result"
    }
   ],
   "source": [
    "submission.head()"
   ]
  }
 ],
 "metadata": {
  "kaggle": {
   "accelerator": "none",
   "dataSources": [
    {
     "databundleVersionId": 868283,
     "sourceId": 5407,
     "sourceType": "competition"
    }
   ],
   "dockerImageVersionId": 30746,
   "isGpuEnabled": false,
   "isInternetEnabled": true,
   "language": "python",
   "sourceType": "notebook"
  },
  "kernelspec": {
   "display_name": "Python 3",
   "language": "python",
   "name": "python3"
  },
  "language_info": {
   "codemirror_mode": {
    "name": "ipython",
    "version": 3
   },
   "file_extension": ".py",
   "mimetype": "text/x-python",
   "name": "python",
   "nbconvert_exporter": "python",
   "pygments_lexer": "ipython3",
   "version": "3.10.13"
  },
  "papermill": {
   "default_parameters": {},
   "duration": 132.085559,
   "end_time": "2024-07-29T18:21:58.204784",
   "environment_variables": {},
   "exception": null,
   "input_path": "__notebook__.ipynb",
   "output_path": "__notebook__.ipynb",
   "parameters": {},
   "start_time": "2024-07-29T18:19:46.119225",
   "version": "2.5.0"
  }
 },
 "nbformat": 4,
 "nbformat_minor": 5
}
